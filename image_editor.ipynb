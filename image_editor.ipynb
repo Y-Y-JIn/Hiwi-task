{
 "cells": [
  {
   "cell_type": "code",
   "execution_count": 5,
   "metadata": {},
   "outputs": [
    {
     "name": "stdout",
     "output_type": "stream",
     "text": [
      "Requirement already satisfied: pillow in /home/nemolinux/Python/sam2/sam2/lib/python3.12/site-packages (11.0.0)\n",
      "Note: you may need to restart the kernel to use updated packages.\n"
     ]
    }
   ],
   "source": [
    "pip install pillow"
   ]
  },
  {
   "cell_type": "code",
   "execution_count": 8,
   "metadata": {},
   "outputs": [
    {
     "name": "stdout",
     "output_type": "stream",
     "text": [
      "HOME: /home/nemolinux/Python/sam2/notebooks/SAM_model_test\n"
     ]
    }
   ],
   "source": [
    "import os\n",
    "HOME = os.getcwd()\n",
    "print(\"HOME:\", HOME)"
   ]
  },
  {
   "cell_type": "code",
   "execution_count": 13,
   "metadata": {},
   "outputs": [
    {
     "name": "stdout",
     "output_type": "stream",
     "text": [
      "Cropped and saved: /home/nemolinux/Python/sam2/notebooks/image_SEM/original_image/soil_extracts/Apos5_05.tif\n",
      "Cropped and saved: /home/nemolinux/Python/sam2/notebooks/image_SEM/original_image/soil_extracts/sample5_19.tif\n",
      "Cropped and saved: /home/nemolinux/Python/sam2/notebooks/image_SEM/original_image/soil_extracts/WO_CO_1 -11.tif\n",
      "Cropped and saved: /home/nemolinux/Python/sam2/notebooks/image_SEM/original_image/soil_extracts/Apos1_23.tif\n",
      "Cropped and saved: /home/nemolinux/Python/sam2/notebooks/image_SEM/original_image/soil_extracts/Apos1_29.tif\n",
      "Cropped and saved: /home/nemolinux/Python/sam2/notebooks/image_SEM/original_image/soil_extracts/Apos3_38.tif\n",
      "Cropped and saved: /home/nemolinux/Python/sam2/notebooks/image_SEM/original_image/soil_extracts/B3_04.tif\n",
      "Cropped and saved: /home/nemolinux/Python/sam2/notebooks/image_SEM/original_image/soil_extracts/Apos3_28.tif\n",
      "Cropped and saved: /home/nemolinux/Python/sam2/notebooks/image_SEM/original_image/soil_extracts/sample5_04.tif\n",
      "Cropped and saved: /home/nemolinux/Python/sam2/notebooks/image_SEM/original_image/soil_extracts/sample5_01.tif\n",
      "Cropped and saved: /home/nemolinux/Python/sam2/notebooks/image_SEM/original_image/soil_extracts/Apos3_11.tif\n",
      "Cropped and saved: /home/nemolinux/Python/sam2/notebooks/image_SEM/original_image/soil_extracts/Apos3_32.tif\n",
      "Cropped and saved: /home/nemolinux/Python/sam2/notebooks/image_SEM/original_image/soil_extracts/Apos1_21.tif\n",
      "Cropped and saved: /home/nemolinux/Python/sam2/notebooks/image_SEM/original_image/soil_extracts/sample7_06.tif\n",
      "Cropped and saved: /home/nemolinux/Python/sam2/notebooks/image_SEM/original_image/soil_extracts/WO_CO_2 -16.tif\n",
      "Cropped and saved: /home/nemolinux/Python/sam2/notebooks/image_SEM/original_image/soil_extracts/Apos4_01.tif\n",
      "Cropped and saved: /home/nemolinux/Python/sam2/notebooks/image_SEM/original_image/soil_extracts/Apos3_31.tif\n",
      "Cropped and saved: /home/nemolinux/Python/sam2/notebooks/image_SEM/original_image/soil_extracts/B3_06.tif\n",
      "Cropped and saved: /home/nemolinux/Python/sam2/notebooks/image_SEM/original_image/soil_extracts/Apos1_25.tif\n",
      "Cropped and saved: /home/nemolinux/Python/sam2/notebooks/image_SEM/original_image/soil_extracts/sample6_09.tif\n",
      "Cropped and saved: /home/nemolinux/Python/sam2/notebooks/image_SEM/original_image/soil_extracts/WO_CO_1 -14.tif\n",
      "Cropped and saved: /home/nemolinux/Python/sam2/notebooks/image_SEM/original_image/soil_extracts/Apos4_06.tif\n",
      "Cropped and saved: /home/nemolinux/Python/sam2/notebooks/image_SEM/original_image/soil_extracts/sample8_03.tif\n",
      "Cropped and saved: /home/nemolinux/Python/sam2/notebooks/image_SEM/original_image/soil_extracts/Apos3_40.tif\n"
     ]
    }
   ],
   "source": [
    "from PIL import Image\n",
    "import os\n",
    "\n",
    "def crop_images_in_folder(input_folder, output_folder, crop_height):\n",
    "    \"\"\"\n",
    "    Crop the bottom portion of images in a folder and save them to an output folder.\n",
    "    \n",
    "    :param input_folder: Path to the folder containing the images to be cropped.\n",
    "    :param output_folder: Path to the folder where cropped images will be saved.\n",
    "    :param crop_height: Height (in pixels) to crop from the bottom.\n",
    "    \"\"\"\n",
    "    # Ensure the output folder exists\n",
    "    os.makedirs(output_folder, exist_ok=True)\n",
    "    \n",
    "    # Iterate through all files in the input folder\n",
    "    for filename in os.listdir(input_folder):\n",
    "        if filename.lower().endswith(('png', 'tif', 'jpg', 'jpeg')):\n",
    "            img_path = os.path.join(input_folder, filename)\n",
    "            with Image.open(img_path) as img:\n",
    "                # Get the image dimensions\n",
    "                width, height = img.size\n",
    "                \n",
    "                # Define the crop box (left, top, right, bottom)\n",
    "                crop_box = (0, 0, width, height - crop_height)\n",
    "                \n",
    "                # Crop and save the image\n",
    "                cropped_img = img.crop(crop_box)\n",
    "                output_path = os.path.join(output_folder, filename)\n",
    "                cropped_img.save(output_path)\n",
    "                print(f\"Cropped and saved: {output_path}\")\n",
    "\n",
    "\n",
    "\n",
    "# Example usage\n",
    "input_folder = \"/home/nemolinux/Python/sam2/notebooks/image_SEM/original_images/soil_extracts\"  # Replace with your folder path\n",
    "output_folder = \"/home/nemolinux/Python/sam2/notebooks/image_SEM/original_image/soil_extracts\"  # Replace with your folder path\n",
    "crop_height = 75  # Replace with the height (in pixels) to crop from the bottom\n",
    "\n",
    "crop_images_in_folder(input_folder, output_folder, crop_height)\n"
   ]
  },
  {
   "cell_type": "code",
   "execution_count": null,
   "metadata": {},
   "outputs": [],
   "source": []
  }
 ],
 "metadata": {
  "kernelspec": {
   "display_name": "sam2",
   "language": "python",
   "name": "python3"
  },
  "language_info": {
   "codemirror_mode": {
    "name": "ipython",
    "version": 3
   },
   "file_extension": ".py",
   "mimetype": "text/x-python",
   "name": "python",
   "nbconvert_exporter": "python",
   "pygments_lexer": "ipython3",
   "version": "3.12.3"
  }
 },
 "nbformat": 4,
 "nbformat_minor": 2
}
